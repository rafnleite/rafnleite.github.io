{
 "cells": [
  {
   "cell_type": "code",
   "execution_count": 211,
   "metadata": {},
   "outputs": [],
   "source": [
    "import pandas as pd\n",
    "import numpy as np\n",
    "import requests\n",
    "from selenium import webdriver\n",
    "from selenium.webdriver.common.by import By\n",
    "from selenium.webdriver.support.ui import WebDriverWait\n",
    "from selenium.webdriver.support import expected_conditions as EC\n",
    "from bs4 import BeautifulSoup\n",
    "import time\n",
    "import re\n",
    "from datetime import datetime\n",
    "import json"
   ]
  },
  {
   "cell_type": "code",
   "execution_count": 212,
   "metadata": {},
   "outputs": [],
   "source": [
    "URL_PREFIXO = 'https://www.mylaptime.com/laptime/clientes/9T00V814PC29X0160812G781W/results/'\n",
    "URL_PRINCIPAL = 'r3.html?evt=11611&epg=8993'"
   ]
  },
  {
   "cell_type": "code",
   "execution_count": 213,
   "metadata": {},
   "outputs": [],
   "source": [
    "dados_bateria = {}"
   ]
  },
  {
   "cell_type": "code",
   "execution_count": 214,
   "metadata": {},
   "outputs": [],
   "source": [
    "def get_urls(url):\n",
    "   \n",
    "        tomada = None\n",
    "        corrida = None\n",
    "\n",
    "        options = webdriver.ChromeOptions()\n",
    "        options.add_argument('--headless')\n",
    "        driver = webdriver.Chrome(options=options)\n",
    "        \n",
    "        driver.get(url)\n",
    "        time.sleep(1)\n",
    "        \n",
    "        soup = BeautifulSoup(driver.page_source, 'html.parser')\n",
    "        \n",
    "        links = soup.find_all('a', href=True)\n",
    "        \n",
    "        for link in links:\n",
    "            if \"TOMADA DE TEMPO\" in link.get_text():\n",
    "                 tomada = link['href']\n",
    "                \n",
    "        for link in links:\n",
    "            if \"CORRIDA\" in link.get_text():\n",
    "                corrida = link['href']\n",
    "\n",
    "\n",
    "        div_titulo_bateria = soup.find('div', class_='StackedContainers')\n",
    "        titulo_bateria = div_titulo_bateria.find('h3').get_text() if div_titulo_bateria and div_titulo_bateria.find('h3') else None\n",
    "\n",
    "        padrao_data = re.compile(r'(\\d{2})/(\\d{2})/(\\d{4})')\n",
    "        padrao_tempo = re.compile(r'(\\d{2}:\\d{2})')\n",
    "\n",
    "        # Encontrar a data e hora na string\n",
    "        data = padrao_data.search(titulo_bateria)\n",
    "        tempo = padrao_tempo.search(titulo_bateria)\n",
    "\n",
    "        if data and tempo:\n",
    "            dia, mes, ano = map(int, data.groups())\n",
    "            tempo_str = tempo.group(1).replace(':', '')\n",
    "            data_tempo_str = f\"{ano}{mes:02d}{dia:02d}{tempo_str}\"\n",
    "            \n",
    "        return tomada, corrida, data_tempo_str"
   ]
  },
  {
   "cell_type": "code",
   "execution_count": 215,
   "metadata": {},
   "outputs": [],
   "source": [
    "def get_tabelas(url_tomada, url_corrida):\n",
    "\n",
    "    options = webdriver.ChromeOptions()\n",
    "    options.add_argument('--headless')\n",
    "    driver = webdriver.Chrome(options=options)\n",
    "\n",
    "    driver.get(URL_PREFIXO + url_tomada)\n",
    "    time.sleep(1)\n",
    "    soup = BeautifulSoup(driver.page_source, 'html.parser')\n",
    "    tabela_1 = extrair_dados_tabela(soup.find('table', class_='evenodd'))\n",
    "    \n",
    "    driver.get(URL_PREFIXO + url_tomada.replace('r4.html', 'vlts.asp'))\n",
    "    time.sleep(1)\n",
    "    soup = BeautifulSoup(driver.page_source, 'html.parser')\n",
    "    tabela_2 = extrair_dados_tabela(soup.find('table', class_='evenodd'))\n",
    "    \n",
    "    driver.get(URL_PREFIXO + url_corrida)\n",
    "    time.sleep(1)\n",
    "    soup = BeautifulSoup(driver.page_source, 'html.parser')\n",
    "    tabela_3 = extrair_dados_tabela(soup.find('table', class_='evenodd'))\n",
    "    \n",
    "    driver.get(URL_PREFIXO + url_corrida.replace('r4.html', 'vlts.asp'))\n",
    "    time.sleep(1)\n",
    "    soup = BeautifulSoup(driver.page_source, 'html.parser')\n",
    "    tabela_4 = extrair_dados_tabela(soup.find('table', class_='evenodd'))\n",
    "\n",
    "    return {'tomada_tempo': tabela_1, 'tomada_tempo_mapa_de_voltas': tabela_2, 'corrida': tabela_3, 'corrida_mapa_de_voltas': tabela_4}\n",
    "\n",
    "def extrair_dados_tabela(tabela):\n",
    "    dados = []\n",
    "\n",
    "    for linha in tabela.find_all('tr'):\n",
    "        dados_linha = []\n",
    "        for celula in linha.find_all(['th', 'td']):\n",
    "            dados_linha.append(celula.get_text().strip())\n",
    "        dados.append(dados_linha)\n",
    "    \n",
    "    return  pd.DataFrame(dados[1:], columns=dados[0])"
   ]
  },
  {
   "cell_type": "code",
   "execution_count": 216,
   "metadata": {},
   "outputs": [],
   "source": [
    "def converter_volta(tempo):\n",
    "    if tempo.find('VOLTA') != -1:\n",
    "        if tempo == '-1 VOLTA(S)':\n",
    "            return '-1 VOLTA'\n",
    "        else:\n",
    "            return tempo[:-3] + 'S'\n",
    "    else:\n",
    "        return tempo\n",
    "\n",
    "def converter_tempo_para_ms(tempo):\n",
    "    if tempo is None:\n",
    "        return None\n",
    "    elif tempo.count(':') == 1:\n",
    "        partes = tempo.split(':')\n",
    "        try:\n",
    "            minutos = int(partes[0])\n",
    "            segundos = int(float(partes[1]) * 1000)\n",
    "        except ValueError:\n",
    "            return None\n",
    "        return minutos * 60 * 1000 + segundos\n",
    "    elif tempo.count(':') == 2:\n",
    "        partes = tempo.split(':')\n",
    "        try:\n",
    "            horas = int(partes[0])\n",
    "            minutos = int(partes[1])\n",
    "            segundos = int(float(partes[2]) * 1000)\n",
    "        except ValueError:\n",
    "            return None\n",
    "        return horas * 60 * 60 * 1000 + minutos * 60 * 1000 + segundos\n",
    "    return tempo\n",
    "    \n",
    "\n",
    "def converter_ms_para_tempo(ms):\n",
    "    if ms is None:\n",
    "        return None\n",
    "    \n",
    "    try:\n",
    "        total_seconds = ms / 1000.0\n",
    "        horas = int(total_seconds // 3600)\n",
    "        rem = total_seconds % 3600\n",
    "        \n",
    "        minutos = int(rem // 60)\n",
    "        segundos = rem % 60\n",
    "        \n",
    "        if horas > 0:\n",
    "            return \"{:02d}:{:02d}:{:06.3f}\".format(horas, minutos, segundos)\n",
    "        else:\n",
    "            return \"{:02d}:{:06.3f}\".format(minutos, segundos)\n",
    "    \n",
    "    except Exception:\n",
    "        return None\n",
    "\n",
    "def converter_vm(vel):\n",
    "    return float(vel.replace(',', '.'))"
   ]
  },
  {
   "cell_type": "code",
   "execution_count": 217,
   "metadata": {},
   "outputs": [],
   "source": [
    "def converter_tabela_corrida(df):\n",
    "    df['VM'] = df['VM'].apply(converter_vm)\n",
    "    df['DL'] = df['DL'].apply(converter_volta)\n",
    "    df['DA'] = df['DA'].apply(converter_volta)\n",
    "    df['TMV_ms'] = df['TMV'].apply(converter_tempo_para_ms)\n",
    "    df['TT_ms'] = df['TT'].apply(converter_tempo_para_ms)\n",
    "    df['DL_ms'] = df['DL'].apply(converter_tempo_para_ms)\n",
    "    df['DA_ms'] = df['DA'].apply(converter_tempo_para_ms)"
   ]
  },
  {
   "cell_type": "code",
   "execution_count": 218,
   "metadata": {},
   "outputs": [],
   "source": [
    "url_tomada, url_corrida, bateria = get_urls(URL_PREFIXO + URL_PRINCIPAL)"
   ]
  },
  {
   "cell_type": "code",
   "execution_count": 219,
   "metadata": {},
   "outputs": [],
   "source": [
    "tabelas = get_tabelas(url_tomada, url_corrida)"
   ]
  },
  {
   "cell_type": "code",
   "execution_count": 220,
   "metadata": {},
   "outputs": [],
   "source": [
    "tabelas['corrida'].columns = ['POS', '#', 'CAT', 'NOME', 'MV', 'TMV', 'VLTS', 'TT', 'DL', 'DA', 'VM']\n",
    "tabelas['tomada_tempo'].columns = ['POS', '#', 'CAT', 'NOME', 'MV', 'TMV', 'VLTS', 'TT', 'DL', 'DA', 'VM']"
   ]
  },
  {
   "cell_type": "code",
   "execution_count": 221,
   "metadata": {},
   "outputs": [],
   "source": [
    "converter_tabela_corrida(tabelas['corrida'])\n",
    "converter_tabela_corrida(tabelas['tomada_tempo'])"
   ]
  },
  {
   "cell_type": "code",
   "execution_count": 222,
   "metadata": {},
   "outputs": [],
   "source": [
    "def find_min_time(df):\n",
    "    time_columns = df.columns[1:]\n",
    "    min_time = df[time_columns].stack().dropna().min()\n",
    "    \n",
    "    return min_time"
   ]
  },
  {
   "cell_type": "code",
   "execution_count": 223,
   "metadata": {},
   "outputs": [],
   "source": [
    "MELHOR_VOLTA = find_min_time(tabelas['corrida_mapa_de_voltas'])"
   ]
  },
  {
   "cell_type": "code",
   "execution_count": 224,
   "metadata": {},
   "outputs": [],
   "source": [
    "tabelas['corrida']['MVC'] = tabelas['corrida']['TMV'] == MELHOR_VOLTA"
   ]
  },
  {
   "cell_type": "code",
   "execution_count": 225,
   "metadata": {},
   "outputs": [],
   "source": [
    "colunas = ['NOME', '#', 'POS', 'MV', 'TMV', 'VLTS', 'TT', 'DL', 'DA', 'VM', 'TMV_ms', 'TT_ms', 'DL_ms', 'DA_ms', 'MVC']\n",
    "json_corrida = tabelas['corrida'].to_dict(orient='records')\n",
    "json_tomada_tempo = tabelas['tomada_tempo'].to_dict(orient='records')"
   ]
  },
  {
   "cell_type": "code",
   "execution_count": 226,
   "metadata": {},
   "outputs": [],
   "source": [
    "for piloto in json_corrida:\n",
    "    number = piloto['#']\n",
    "    if number in tabelas['corrida_mapa_de_voltas'].columns:\n",
    "        piloto['MAPA_VOLTAS'] = tabelas['corrida_mapa_de_voltas'][number].tolist()\n",
    "        piloto['MAPA_VOLTAS_ms'] = tabelas['corrida_mapa_de_voltas'][number].map(converter_tempo_para_ms).tolist()\n",
    "        piloto['MAPA_VOLTAS_ACC_ms'] = np.cumsum(piloto['MAPA_VOLTAS_ms']).tolist()\n",
    "        piloto['MAPA_VOLTAS_ms'] = [x if not np.isnan(x) else None for x in piloto['MAPA_VOLTAS_ms']]\n",
    "        piloto['MAPA_VOLTAS_ACC_ms'] = [x if not np.isnan(x) else None for x in piloto['MAPA_VOLTAS_ACC_ms']]\n",
    "        piloto['MAPA_VOLTAS_ACC'] = list(map(converter_ms_para_tempo,piloto['MAPA_VOLTAS_ACC_ms']))\n",
    "\n",
    "for piloto in json_tomada_tempo:\n",
    "    number = piloto['#']\n",
    "    if number in tabelas['tomada_tempo_mapa_de_voltas'].columns:\n",
    "        piloto['MAPA_VOLTAS'] = tabelas['tomada_tempo_mapa_de_voltas'][number].tolist()\n",
    "        piloto['MAPA_VOLTAS_ms'] = tabelas['tomada_tempo_mapa_de_voltas'][number].map(converter_tempo_para_ms).tolist()\n",
    "        piloto['MAPA_VOLTAS_ms'] = [x if not np.isnan(x) else None for x in piloto['MAPA_VOLTAS_ms']]"
   ]
  },
  {
   "cell_type": "code",
   "execution_count": 227,
   "metadata": {},
   "outputs": [
    {
     "name": "stdout",
     "output_type": "stream",
     "text": [
      "O arquivo ../data/baterias/202403201815.json foi salvo com sucesso.\n"
     ]
    }
   ],
   "source": [
    "json_data = {\n",
    "    \"url\": URL_PREFIXO + URL_PRINCIPAL,\n",
    "    \"corrida\": json_corrida,\n",
    "    \"tomada_de_tempo\": json_tomada_tempo\n",
    "}\n",
    "\n",
    "file_name = f\"../data/baterias/{bateria}.json\"\n",
    "\n",
    "with open(file_name, 'w') as file:\n",
    "    json.dump(json_data, file, indent=4)\n",
    "\n",
    "print(f\"O arquivo {file_name} foi salvo com sucesso.\")"
   ]
  }
 ],
 "metadata": {
  "kernelspec": {
   "display_name": "base",
   "language": "python",
   "name": "python3"
  },
  "language_info": {
   "codemirror_mode": {
    "name": "ipython",
    "version": 3
   },
   "file_extension": ".py",
   "mimetype": "text/x-python",
   "name": "python",
   "nbconvert_exporter": "python",
   "pygments_lexer": "ipython3",
   "version": "3.9.7"
  }
 },
 "nbformat": 4,
 "nbformat_minor": 2
}
