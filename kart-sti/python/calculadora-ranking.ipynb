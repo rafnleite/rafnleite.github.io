{
 "cells": [
  {
   "cell_type": "code",
   "execution_count": 45,
   "metadata": {},
   "outputs": [],
   "source": [
    "import pandas as pd\n",
    "import numpy as np\n",
    "import json\n",
    "import os\n",
    "import glob\n",
    "import json\n",
    "from datetime import datetime\n",
    "from dateutil.relativedelta import relativedelta\n",
    "import math"
   ]
  },
  {
   "cell_type": "code",
   "execution_count": 46,
   "metadata": {},
   "outputs": [],
   "source": [
    "DATA = '2024-05-21'"
   ]
  },
  {
   "cell_type": "code",
   "execution_count": 47,
   "metadata": {},
   "outputs": [],
   "source": [
    "DIRETORIO_DADOS = \"../data/baterias/\""
   ]
  },
  {
   "cell_type": "code",
   "execution_count": 48,
   "metadata": {},
   "outputs": [],
   "source": [
    "N_MIN = 8\n",
    "P_BASE = 400\n",
    "T_CRES = 8\n",
    "P_MIN = 10\n",
    "FRAC_TT = 0.07\n",
    "P_MIN_TT = 0\n",
    "FRAC_MVC = 0.12\n",
    "P_VC = 5"
   ]
  },
  {
   "cell_type": "code",
   "execution_count": 49,
   "metadata": {},
   "outputs": [],
   "source": [
    "def caulcarPCC(pos, numero_participantes):\n",
    "  if pos > numero_participantes: \n",
    "      return 0\n",
    "  p1_cc = P_BASE + T_CRES * (numero_participantes - N_MIN)\n",
    "  return round((-1 * math.log(pos) * ((p1_cc - P_MIN) / math.log(numero_participantes)) + p1_cc), 2)\n",
    "\n",
    "def caulcarPMV(numero_participantes):\n",
    "  p1_cc = P_BASE + T_CRES * (numero_participantes - N_MIN)\n",
    "  return round(100 * FRAC_MVC * p1_cc) / 100\n",
    "\n",
    "\n",
    "def caulcarPCTT(pos, numero_participantes):\n",
    "  if pos > numero_participantes: \n",
    "    return 0\n",
    "  p1_cc = P_BASE + T_CRES * (numero_participantes - N_MIN)\n",
    "  p1_ctt = p1_cc * FRAC_TT\n",
    "  return round(max((-1 * math.log(pos) * p1_ctt / math.log((numero_participantes + 1) / 2)) + p1_ctt, 0), 2)\n",
    "\n",
    "def caulcarPVC(voltas):\n",
    "  return P_VC * voltas"
   ]
  },
  {
   "cell_type": "code",
   "execution_count": 50,
   "metadata": {},
   "outputs": [],
   "source": [
    "def buscar_corridas(data_str=None):\n",
    "    \n",
    "    if data_str is None:\n",
    "        data_entrada = datetime.now()\n",
    "    else:\n",
    "        data_entrada = datetime.strptime(data_str, \"%Y-%m-%d\")\n",
    "\n",
    "    data_inicio = data_entrada - relativedelta(years=1)\n",
    "    \n",
    "    corridas = []\n",
    "    \n",
    "    padrao_arquivos = os.path.join(DIRETORIO_DADOS, \"*.json\")\n",
    "    arquivos = glob.glob(padrao_arquivos)\n",
    "    \n",
    "    for arquivo in arquivos:\n",
    "        nome_arquivo = os.path.basename(arquivo)\n",
    "        \n",
    "        try:\n",
    "            data_arquivo_str = nome_arquivo[:8]\n",
    "            data_arquivo = datetime.strptime(data_arquivo_str, \"%Y%m%d\")\n",
    "            \n",
    "            if data_inicio <= data_arquivo <= data_entrada:\n",
    "                with open(arquivo, \"r\") as f:\n",
    "                    corrida = json.load(f)\n",
    "                    corridas.append(corrida)\n",
    "        except ValueError:\n",
    "            continue\n",
    "    \n",
    "    return corridas\n",
    "\n",
    "def listar_todos_pilotos(corridas):\n",
    "    participantes_corridas = []\n",
    "    for corrida in corridas:\n",
    "        participantes = set()\n",
    "        [participantes.add(piloto['NOME']) for piloto in corrida['corrida']]\n",
    "        [participantes.add(piloto['NOME']) for piloto in corrida['tomada_de_tempo']]\n",
    "        participantes_corridas.append(participantes)\n",
    "    return participantes_corridas\n",
    "\n",
    "def selecionar_pilotos_qualificados(lista_de_sets, proporcao=1/3):\n",
    "    contador = {}\n",
    "\n",
    "    for conjunto in lista_de_sets:\n",
    "        for nome in conjunto:\n",
    "            if nome in contador:\n",
    "                contador[nome] += 1\n",
    "            else:\n",
    "                contador[nome] = 1\n",
    "\n",
    "    numero_sets = len(lista_de_sets)\n",
    "    minimo_aparicoes = numero_sets * proporcao\n",
    "\n",
    "    pilotos_qualificados = [nome for nome, contagem in contador.items() if contagem >= minimo_aparicoes]\n",
    "\n",
    "    return pilotos_qualificados\n",
    "\n",
    "def calcular_POS(list):\n",
    "    list.sort(key=lambda piloto: int(piloto['POS']))\n",
    "    for i, piloto in enumerate(list):\n",
    "        piloto[\"POS\"] = i + 1\n",
    "\n",
    "\n",
    "def calcular_pontos_por_corrida(corridas, pilotos_qualificados):\n",
    "    pontuacoes_corridas = {\n",
    "        'total': [],\n",
    "        'baterias': []\n",
    "    }\n",
    "    for corrida in corridas:\n",
    "\n",
    "        participantes = set()\n",
    "\n",
    "        corrida_filtrado = [piloto for piloto in corrida['corrida'] if piloto['NOME'] in pilotos_qualificados]\n",
    "        tomada_de_tempo_filtrado = [piloto for piloto in corrida['tomada_de_tempo'] if piloto['NOME'] in pilotos_qualificados]\n",
    "\n",
    "        pontuacao_corrida = {\n",
    "            'bateria': corrida['bateria'],\n",
    "            'pilotos': [],\n",
    "            'numero_participantes_corrida': len(corrida_filtrado),\n",
    "            'numero_participantes_tomada_de_tempo': len(tomada_de_tempo_filtrado)\n",
    "        }\n",
    "\n",
    "        [participantes.add(piloto['NOME']) for piloto in corrida_filtrado]\n",
    "        [participantes.add(piloto['NOME']) for piloto in tomada_de_tempo_filtrado]\n",
    "\n",
    "        calcular_POS(corrida_filtrado)\n",
    "        calcular_POS(tomada_de_tempo_filtrado)\n",
    "\n",
    "        MELHOR_VOLTA = min(corrida_filtrado, key=lambda piloto: piloto[\"TMV\"])[\"TMV\"]\n",
    "\n",
    "        for p in participantes:\n",
    "\n",
    "            p_corrida = next((piloto for piloto in corrida_filtrado if piloto[\"NOME\"] == p), None)\n",
    "            p_tomada_de_tempo = next((piloto for piloto in tomada_de_tempo_filtrado if piloto[\"NOME\"] == p), None)\n",
    "            piloto = {'NOME': p,\n",
    "                      'POS_CORRIDA': p_corrida['POS'] if p_corrida else None,\n",
    "                      'POS_TOMADA_DE_TEMPO': p_tomada_de_tempo['POS'] if p_tomada_de_tempo else None,\n",
    "                      'MVC': p_corrida['TMV'] == MELHOR_VOLTA,\n",
    "                      'VC': (int(p_corrida['VLTS']) if p_corrida else 0) + (int(p_tomada_de_tempo['VLTS']) if p_tomada_de_tempo else 0)\n",
    "                      }\n",
    "        \n",
    "            piloto['PCC'] = caulcarPCC(piloto['POS_CORRIDA'], pontuacao_corrida['numero_participantes_corrida']) if piloto['POS_CORRIDA'] else 0\n",
    "            piloto['PMV'] = caulcarPMV(pontuacao_corrida['numero_participantes_corrida']) if piloto['MVC'] == True else 0\n",
    "            piloto['PCTT'] = caulcarPCTT(piloto['POS_TOMADA_DE_TEMPO'], pontuacao_corrida['numero_participantes_tomada_de_tempo']) if piloto['POS_TOMADA_DE_TEMPO'] else 0\n",
    "            piloto['PVC'] = caulcarPVC(piloto['VC'])\n",
    "            piloto['PTOTAL'] = round(piloto['PCC'] + piloto['PMV'] + piloto['PCTT'] + piloto['PVC'], 2)\n",
    "\n",
    "            pontuacao_corrida['pilotos'].append(piloto)\n",
    "\n",
    "        pontuacoes_corridas['baterias'].append(pontuacao_corrida)\n",
    "\n",
    "    for piloto in pilotos_qualificados:\n",
    "        PTOTAL = 0\n",
    "        for bateria in pontuacoes_corridas['baterias']:\n",
    "            p =  next((p for p in bateria['pilotos'] if p[\"NOME\"] == piloto), None)\n",
    "            PTOTAL += p['PTOTAL'] if p else 0\n",
    "    \n",
    "        pontuacoes_corridas['total'].append({'NOME': piloto, 'PTOTAL': round(PTOTAL, 2)})\n",
    "        \n",
    "    pontuacoes_corridas['total'].sort(key=lambda piloto: int(piloto['PTOTAL']), reverse = True)\n",
    "    for i, piloto in enumerate(pontuacoes_corridas['total']):\n",
    "        piloto[\"POS\"] = i + 1\n",
    "\n",
    "    return pontuacoes_corridas"
   ]
  },
  {
   "cell_type": "code",
   "execution_count": 51,
   "metadata": {},
   "outputs": [
    {
     "data": {
      "text/plain": [
       "['AYRTON MENDONCA',\n",
       " 'ELTON LAGROTERIA DOS SANTOS',\n",
       " 'ANA JESSICA DE OLIVEIRA BATISTA',\n",
       " 'HEITOR GOMIDE DE CASTRO',\n",
       " 'GUSTAVO BASTOS',\n",
       " 'PEDRO MANFRIM MAGALHAES DE PAULA',\n",
       " 'GABRIEL CARDOSO',\n",
       " 'RAFAEL ANGELO VIEIRA PESSOA LIMA',\n",
       " 'RAFAEL LEITE',\n",
       " 'BRENER SILVA',\n",
       " 'REGINALDO VIEIRA',\n",
       " 'LEONARDO STADLER PEZZINI',\n",
       " 'GILBERTO JOSÉ ROSSA JUNIOR',\n",
       " 'PEDRO AGUIAR',\n",
       " 'ALEX NEVES',\n",
       " 'RICARDO DRUDI',\n",
       " 'MOISES HENRIQUES',\n",
       " 'LUIZ  DE LIMA SOUZA',\n",
       " 'DANIEL NORA',\n",
       " 'BRENO DO NASCIMENTO MARTINS',\n",
       " \"EDGARD SANT'ANNA\",\n",
       " 'CESAR CARVALHO',\n",
       " 'BRUNO FARIA ALMADA',\n",
       " 'ALINE BICICGO',\n",
       " 'CLARISSA MARTINS DE MELLO',\n",
       " 'RONALU BARCELOS',\n",
       " 'LUCAS MONTEIRO',\n",
       " 'TOMAS TAVEIRA RABELO',\n",
       " 'MURILO XAVIER',\n",
       " 'DIOGO DA SILVA MACIEL',\n",
       " 'RAFAEL VASEL',\n",
       " 'ENRIQUE FERNANDO LIMBERGER',\n",
       " 'PEDRO MIZUNO',\n",
       " 'VICTOR DOS PRAZERES',\n",
       " 'RAPHAEL MARIANO',\n",
       " 'VALDIR MENDONCA',\n",
       " 'VINICIUS LARANJEIRAS',\n",
       " 'MATHEUS SILVA',\n",
       " 'VITOR NOLASCO',\n",
       " 'SAMUEL HUSSIN COUTO',\n",
       " 'MARCIO SANTANA84',\n",
       " 'LEONEL SANDER',\n",
       " 'VINICIUS MENDONCA',\n",
       " 'COMPETIDOR  23']"
      ]
     },
     "execution_count": 51,
     "metadata": {},
     "output_type": "execute_result"
    }
   ],
   "source": [
    "pilotos_qualificados"
   ]
  },
  {
   "cell_type": "code",
   "execution_count": 52,
   "metadata": {},
   "outputs": [],
   "source": [
    "corridas = buscar_corridas(DATA)\n",
    "participantes_corridas = listar_todos_pilotos(corridas)\n",
    "pilotos_qualificados = selecionar_pilotos_qualificados(participantes_corridas)\n",
    "ranking = calcular_pontos_por_corrida(corridas, pilotos_qualificados)"
   ]
  },
  {
   "cell_type": "code",
   "execution_count": 53,
   "metadata": {},
   "outputs": [
    {
     "data": {
      "text/plain": [
       "'2024-05-21'"
      ]
     },
     "execution_count": 53,
     "metadata": {},
     "output_type": "execute_result"
    }
   ],
   "source": [
    "DATA"
   ]
  },
  {
   "cell_type": "code",
   "execution_count": 54,
   "metadata": {},
   "outputs": [
    {
     "name": "stdout",
     "output_type": "stream",
     "text": [
      "O arquivo ../data/ranking/20240521.json foi salvo com sucesso.\n"
     ]
    }
   ],
   "source": [
    "file_name = f\"../data/ranking/{DATA.replace('-', '')}.json\"\n",
    "\n",
    "with open(file_name, 'w') as file:\n",
    "    json.dump(ranking, file, indent=4)\n",
    "\n",
    "print(f\"O arquivo {file_name} foi salvo com sucesso.\")"
   ]
  }
 ],
 "metadata": {
  "kernelspec": {
   "display_name": "base",
   "language": "python",
   "name": "python3"
  },
  "language_info": {
   "codemirror_mode": {
    "name": "ipython",
    "version": 3
   },
   "file_extension": ".py",
   "mimetype": "text/x-python",
   "name": "python",
   "nbconvert_exporter": "python",
   "pygments_lexer": "ipython3",
   "version": "3.9.7"
  }
 },
 "nbformat": 4,
 "nbformat_minor": 2
}
