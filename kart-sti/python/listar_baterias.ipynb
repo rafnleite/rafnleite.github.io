{
 "cells": [
  {
   "cell_type": "code",
   "execution_count": 4,
   "metadata": {},
   "outputs": [
    {
     "name": "stdout",
     "output_type": "stream",
     "text": [
      "Lista de arquivos JSON salva em ../data/baterias/lista_baterias.json\n"
     ]
    }
   ],
   "source": [
    "import os\n",
    "import json\n",
    "\n",
    "directory_path = '../data/baterias'\n",
    "\n",
    "json_files = []\n",
    "\n",
    "for file_name in os.listdir(directory_path):\n",
    "    if file_name.endswith('.json') and file_name != 'lista_baterias.json':\n",
    "        json_files.append(file_name)\n",
    "\n",
    "output_file = '../data/baterias/lista_baterias.json'\n",
    "\n",
    "output_data = json_files\n",
    "\n",
    "with open(output_file, 'w') as json_out:\n",
    "    json.dump(output_data, json_out, indent=4)\n",
    "\n",
    "print(f\"Lista de arquivos JSON salva em {output_file}\")"
   ]
  }
 ],
 "metadata": {
  "kernelspec": {
   "display_name": "base",
   "language": "python",
   "name": "python3"
  },
  "language_info": {
   "codemirror_mode": {
    "name": "ipython",
    "version": 3
   },
   "file_extension": ".py",
   "mimetype": "text/x-python",
   "name": "python",
   "nbconvert_exporter": "python",
   "pygments_lexer": "ipython3",
   "version": "3.9.7"
  }
 },
 "nbformat": 4,
 "nbformat_minor": 2
}
