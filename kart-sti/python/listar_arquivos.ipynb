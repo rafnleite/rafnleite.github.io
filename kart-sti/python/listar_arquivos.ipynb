{
 "cells": [
  {
   "cell_type": "code",
   "execution_count": 5,
   "metadata": {},
   "outputs": [
    {
     "name": "stdout",
     "output_type": "stream",
     "text": [
      "Lista de arquivos JSON salva em ../data/baterias/lista_baterias.json\n",
      "Lista de arquivos JSON salva em ../data/ranking/lista_rankings.json\n"
     ]
    }
   ],
   "source": [
    "import os\n",
    "import json\n",
    "\n",
    "def listar_arquivos(diretorio, arquivo_lista):\n",
    "\n",
    "    arquivos_json = []\n",
    "\n",
    "    for file_name in os.listdir(diretorio):\n",
    "        if file_name.endswith('.json') and file_name != arquivo_lista:\n",
    "            arquivos_json.append(file_name)\n",
    "\n",
    "    saida = diretorio + '/' + arquivo_lista\n",
    "\n",
    "    dados_saida = arquivos_json\n",
    "\n",
    "    with open(saida, 'w') as json_saida:\n",
    "        json.dump(dados_saida, json_saida, indent=4)\n",
    "\n",
    "    print(f\"Lista de arquivos JSON salva em {saida}\")\n",
    "\n",
    "listar_arquivos('../data/baterias', 'lista_baterias.json')\n",
    "listar_arquivos('../data/ranking', 'lista_rankings.json')"
   ]
  }
 ],
 "metadata": {
  "kernelspec": {
   "display_name": "base",
   "language": "python",
   "name": "python3"
  },
  "language_info": {
   "codemirror_mode": {
    "name": "ipython",
    "version": 3
   },
   "file_extension": ".py",
   "mimetype": "text/x-python",
   "name": "python",
   "nbconvert_exporter": "python",
   "pygments_lexer": "ipython3",
   "version": "3.9.7"
  }
 },
 "nbformat": 4,
 "nbformat_minor": 2
}
